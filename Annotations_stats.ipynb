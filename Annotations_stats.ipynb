{
 "cells": [
  {
   "cell_type": "code",
   "execution_count": 3,
   "metadata": {},
   "outputs": [
    {
     "name": "stdout",
     "output_type": "stream",
     "text": [
      "\n",
      "Fleiss' Kappa Result:\n",
      "0.87\n",
      "\n",
      "Agreement Percentages:\n",
      "Label_from_Code: 100.00%\n",
      "Annotator_1: 87.61%\n",
      "Annotator_2: 87.61%\n",
      "Annotator_3: 87.61%\n",
      "\n",
      "Label Counts:\n",
      "Count of Label C: 84\n",
      "Count of Label D: 134\n"
     ]
    }
   ],
   "source": [
    "import pandas as pd\n",
    "from sklearn.metrics import cohen_kappa_score\n",
    "from statsmodels.stats.inter_rater import fleiss_kappa\n",
    "import numpy as np\n",
    "\n",
    "# 1. Load the data\n",
    "df = pd.read_csv(\"annotations.csv\")\n",
    "\n",
    "# Strip whitespace from columns\n",
    "df[\"Label_from_Code\"] = df[\"Label_from_Code\"].str.strip()\n",
    "df[\"Annotator_1\"] = df[\"Annotator_1\"].str.strip()\n",
    "df[\"Annotator_2\"] = df[\"Annotator_1\"].str.strip()\n",
    "df[\"Annotator_3\"] = df[\"Annotator_1\"].str.strip()\n",
    "\n",
    "# Function to calculate Cohen's Kappa for each pair of annotators\n",
    "def calculate_cohen_kappa(df, annotators):\n",
    "    kappa_results = {}\n",
    "    for i in range(len(annotators)):\n",
    "        for j in range(i + 1, len(annotators)):\n",
    "            annotator_1 = annotators[i]\n",
    "            annotator_2 = annotators[j]\n",
    "            kappa = cohen_kappa_score(df[annotator_1], df[annotator_2])\n",
    "            kappa_results[f\"{annotator_1} vs {annotator_2}\"] = kappa\n",
    "    return kappa_results\n",
    "\n",
    "# Function to calculate Fleiss' Kappa\n",
    "def calculate_fleiss_kappa(df, annotators):\n",
    "    ratings = np.array([[list(annotator).count(label) for label in set(df['Label_from_Code'])] for annotator in df[annotators].values])\n",
    "    fleiss = fleiss_kappa(ratings, method='fleiss')\n",
    "    return fleiss\n",
    "\n",
    "# Annotator columns\n",
    "annotators = [\"Label_from_Code\", 'Annotator_1', 'Annotator_2', 'Annotator_3']\n",
    "\n",
    "# Fleiss' Kappa\n",
    "fleiss_kappa_result = calculate_fleiss_kappa(df, annotators)\n",
    "\n",
    "# Agreement percentages for each annotator against the ground truth\n",
    "agreement_percentages = {}\n",
    "for annotator in annotators:\n",
    "    agreement = (df['Label_from_Code'] == df[annotator]).mean() * 100\n",
    "    agreement_percentages[annotator] = agreement\n",
    "\n",
    "# Count of labels 'C' and 'D'\n",
    "label_c_count = df['Label_from_Code'].value_counts().get('C', 0)\n",
    "label_d_count = df['Label_from_Code'].value_counts().get('D', 0)\n",
    "\n",
    "print(\"\\nFleiss' Kappa Result:\")\n",
    "print(f\"{fleiss_kappa_result:.2f}\")\n",
    "\n",
    "print(\"\\nAgreement Percentages:\")\n",
    "for annotator, percentage in agreement_percentages.items():\n",
    "    print(f\"{annotator}: {percentage:.2f}%\")\n",
    "\n",
    "print(\"\\nLabel Counts:\")\n",
    "print(f\"Count of Label C: {label_c_count}\")\n",
    "print(f\"Count of Label D: {label_d_count}\")\n"
   ]
  }
 ],
 "metadata": {
  "kernelspec": {
   "display_name": "base",
   "language": "python",
   "name": "python3"
  },
  "language_info": {
   "codemirror_mode": {
    "name": "ipython",
    "version": 3
   },
   "file_extension": ".py",
   "mimetype": "text/x-python",
   "name": "python",
   "nbconvert_exporter": "python",
   "pygments_lexer": "ipython3",
   "version": "3.8.5"
  }
 },
 "nbformat": 4,
 "nbformat_minor": 2
}
